{
 "cells": [
  {
   "cell_type": "code",
   "execution_count": 1,
   "metadata": {},
   "outputs": [],
   "source": [
    "#!/usr/bin/env python3\n",
    "# -*- coding: utf-8 -*-\n",
    "\"\"\"\n",
    "@title : PATTERNS\n",
    "@author: pablorr10\n",
    "\"\"\"\n",
    "\n",
    "temporadas = list()\n",
    "for año in range(2017, 2009, -1):\n",
    "    temp = str(año) + '-' + str(año+1)\n",
    "    string = str(año) + '-' + str(año-2000+1)\n",
    "    temporadas.append(temp)\n",
    "\n",
    "equipos = ['Alavés',\n",
    "           'Almería',\n",
    "           'Athletic', \n",
    "           'Atlético', \n",
    "           'Barcelona',\n",
    "           'Betis', \n",
    "           'Celta', \n",
    "           'Córdoba',\n",
    "           'Deportivo', \n",
    "           'Eibar', \n",
    "           'Elche',\n",
    "           'Espanyol', \n",
    "           'Getafe', \n",
    "           'Girona', \n",
    "           'Granada',\n",
    "           'Hércules',\n",
    "           'Huesca',\n",
    "           'Las Palmas', \n",
    "           'Leganés', \n",
    "           'Levante', \n",
    "           'Málaga',\n",
    "           'Mallorca',\n",
    "           'Osasuna',\n",
    "           'Racing',\n",
    "           'Rayo Vallecano',\n",
    "           'Real Madrid', \n",
    "           'Real Sociedad', \n",
    "           'Sevilla',\n",
    "           'Sporting',\n",
    "           'Valencia',\n",
    "           'Valladolid',\n",
    "           'Villarreal',\n",
    "           'Zaragoza']\n",
    "\n",
    "# Stopwords\n",
    "# ---------\n",
    "team_stopwords = ['FC', 'SD', 'CA', 'D.', 'R.', 'RC', 'Club', 'CF', 'RC', 'CD', 'de']\n",
    "matches_stopwords = ['\\n', '(p)']\n"
   ]
  },
  {
   "cell_type": "code",
   "execution_count": null,
   "metadata": {},
   "outputs": [],
   "source": []
  }
 ],
 "metadata": {
  "kernelspec": {
   "display_name": "Python 3",
   "language": "python",
   "name": "python3"
  },
  "language_info": {
   "codemirror_mode": {
    "name": "ipython",
    "version": 3
   },
   "file_extension": ".py",
   "mimetype": "text/x-python",
   "name": "python",
   "nbconvert_exporter": "python",
   "pygments_lexer": "ipython3",
   "version": "3.7.0"
  }
 },
 "nbformat": 4,
 "nbformat_minor": 2
}
