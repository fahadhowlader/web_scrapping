{
 "cells": [
  {
   "cell_type": "markdown",
   "metadata": {},
   "source": [
    "# Web scraping the footbal calendar to a custom Excel file\n",
    "---\n",
    "\n",
    "<img src='https://github.com/PabloRR100/Betcomm/blob/master/Scrapping/images/title.png?raw=true' style='width:50%'>\n",
    "    <br>\n",
    "<div class='text-justify'>\n",
    "\n",
    "In this post I will make use of the Python library, <a href=''> Beautiful Soap 4</a>, to scrap content on the web to build an excel with all the footbal matches of the <a href='https://www.laliga.es'> Spanish Football League</a>.\n",
    "</div><br>\n",
    "\n",
    "Because some of the function names have been implemented in spanish, I introduced comments for the translation.\n",
    "\n",
    "This demo is quite simple, and is ment to just go over the functionalities of Beatiful Soap.  \n",
    "In my [GitHub repository](https://github.com/PabloRR100/Betcomm/tree/master/Scrapping) there are scripts for going a step further and create a complete statistics database: \n",
    "- Save the teams and players for every season in the history\n",
    "- Save the matches, results and statistics of every match in the history\n",
    "\n",
    "\n",
    "## Plan of attack\n",
    "  \n",
    "&emsp; 1 - **Source**: Analyze the platform from where we will extract the data  \n",
    "&emsp; 2 - **Exploration**: Analyze how the information is structured on that platforms - the ```html body```  \n",
    "&emsp; 3 - **Extraction**: Retrieve the data using ```Beatiful Soap 4```  \n",
    "&emsp; 4 - **Export**: save the resulting ```pandas Dataframe``` object into an Excel file  \n",
    "\n",
    "\n",
    "---\n",
    "---\n",
    "\n",
    "\n",
    "## 1 - Source    \n",
    "<br>\n",
    "<div class='text-justify'>\n",
    "The first thing to look at, is the source where we will get the data from. In this case, we will make use of one of the most popular spanish football newspapers, <a href='www.marca.com'> Marca</a>.\n",
    "</div><br>\n",
    "\n",
    "<img src='https://github.com/PabloRR100/Betcomm/blob/master/Scrapping/images/source.png?raw=true'><br>\n",
    "\n",
    "<div class='text-justify'>\n",
    "    In this picture, we see how we can make use of the <a href='https://cs.brown.edu/courses/cs132/resources/inspector/'> inspector</a> to understand how the content of that particular website is organized. This is a mandatory step, since we are going to make use of that structure to navigate over it and extract the information in the order we want.  \n",
    "</div><br>\n",
    "\n",
    "<div class='text-justify'>\n",
    "Another possible way to do what we are going to achieve is by using graphical interfaces, but I find them even less intuitive and less flexible than using beautifulsoap and define you behavior on your scripts. However, here is a screenshot of <a href='https://www.parsehub.com/'> ParseHub</a>, that I believe helps to understand what we want to achieve later on.\n",
    "</div><br>\n",
    "\n",
    "<img src='https://github.com/PabloRR100/Betcomm/blob/master/Images/web_scrapping_screenshots/Screen%20Shot%202018-05-02%20at%2018.44.24.png?raw=true'><br>\n"
   ]
  },
  {
   "cell_type": "markdown",
   "metadata": {},
   "source": [
    "<div class='text-justify'>\n",
    "    <br>\n",
    "    Intuitively, we can see how we are mapping the different <i>html</i> pieces in a hierarchical order. The headers of each column whithin the big table will represent the round on the calendar and every row within that column contains the information of the whole match.  \n",
    "Obviously, it is required also a high text processing to define how exactly you want your final output to be.\n",
    "\n",
    "</div><br>"
   ]
  },
  {
   "cell_type": "markdown",
   "metadata": {},
   "source": [
    "## 2 - Explore data    \n",
    "<br>\n",
    "<div class='text-justify'>\n",
    "We are now ready to explore the website according to the observed structure. \n",
    "The very first thing, like in any other data science project, is to import the necessary libraries. We will import all of them now and then explain when each one is used an how.   \n",
    "   \n",
    "</div><br>\n",
    "\n",
    "By now, the important thing to know is that we need to import ```bs4```, ```urllib``` and ```utils.py```.\n",
    "- bs4 is the Beautiful Soap 4 module itself\n",
    "- urrlib will help us to access website and parse its ```html``` content\n",
    "- [```utils.py```](https://github.com/PabloRR100/Betcomm/blob/master/Scrapping/Utils.ipynb) contains functions for the mentions text processing\n",
    "- [```patterns```](https://github.com/PabloRR100/Betcomm/blob/master/Scrapping/Utils.ipynb) is called from the ```utils.py```. It contains information about the names of the teams and stopwords we want to get rid of. These are, for instance: FC, SD, CA, RC, Club..."
   ]
  },
  {
   "cell_type": "code",
   "execution_count": 1,
   "metadata": {},
   "outputs": [],
   "source": [
    "import os\n",
    "root = './'\n",
    "os.chdir(root)\n",
    "\n",
    "if os.path.exists(root):\n",
    "    path_to_data = os.path.join(root, 'Datos/Scrapped')\n",
    "    path_to_save = os.path.join(root, 'Datos/Created')\n",
    "\n",
    "\n",
    "import pandas as pd\n",
    "from datetime import datetime\n",
    "\n",
    "from bs4 import BeautifulSoup as BS\n",
    "from urllib.request import urlopen as uOpen\n",
    "\n",
    "# IMPORT HELPER FUNCTIONS\n",
    "from utils import limpiar_nombre, buscar_equivalencia"
   ]
  },
  {
   "cell_type": "markdown",
   "metadata": {},
   "source": [
    "### Define how we will store the data\n",
    "We create an empty ```pandas dataframe``` to define how we want to store the information"
   ]
  },
  {
   "cell_type": "code",
   "execution_count": 2,
   "metadata": {},
   "outputs": [],
   "source": [
    "# MATCH MODELS\n",
    "partidos_df = pd.DataFrame(columns=['Round', 'Match #', 'Home team', 'Away team'])"
   ]
  },
  {
   "cell_type": "markdown",
   "metadata": {},
   "source": [
    "## 3 - Retrieve the html content from the source"
   ]
  },
  {
   "cell_type": "code",
   "execution_count": 3,
   "metadata": {},
   "outputs": [],
   "source": [
    "m_url = 'http://www.marca.com/futbol/primera-division/calendario.html'\n",
    "page_soup = BS(uOpen(m_url).read(), 'html.parser')"
   ]
  },
  {
   "cell_type": "markdown",
   "metadata": {},
   "source": [
    "```python\n",
    "page_soup = BS(uOpen(m_url).read(), 'html.parser')\n",
    "```  \n",
    "We are telling ```BS``` to read the content open by ```urlope``` from ```urllib.request```. This brings all the html content of the page.  \n",
    "\n",
    "Then, we are interested in retrieve each of the rounds. If we take a look at the html again to see what are we looking for: \n",
    "<img src='https://github.com/PabloRR100/Betcomm/blob/master/Scrapping/images/rounds.png?raw=true'>\n",
    "\n",
    "We see how each of the rounds is defined inside a ```div``` element which ```class```is: jornada calendarioInternacional  \n",
    "\n",
    "Therefore, we use the BS method ```find_all()```:"
   ]
  },
  {
   "cell_type": "code",
   "execution_count": 4,
   "metadata": {},
   "outputs": [
    {
     "name": "stdout",
     "output_type": "stream",
     "text": [
      "38\n"
     ]
    }
   ],
   "source": [
    "rounds = page_soup.find_all('div',{'class': 'jornada calendarioInternacional'})\n",
    "print(len(rounds))"
   ]
  },
  {
   "cell_type": "markdown",
   "metadata": {},
   "source": [
    "We check that there are indeed 38 rounds. And if we take a look at the content of any of them, for instance the first one, we could see the retreived html and check Girona - Valladolid is the first of the matches of the first round"
   ]
  },
  {
   "cell_type": "code",
   "execution_count": 5,
   "metadata": {},
   "outputs": [
    {
     "data": {
      "text/plain": [
       "<div class=\"jornada calendarioInternacional\">\n",
       "<div class=\"cal-agendas calendario\">\n",
       "<div class=\"jornada datos-jornada\">\n",
       "<a class=\"ir-arriba\" href=\"#top\">Ir arriba</a>\n",
       "<table cellpadding=\"0\" cellspacing=\"0\" class=\"jor agendas\" id=\"jornada1\" summary=\"Todos los resultados de la jornada\">\n",
       "<caption>Jornada 1</caption>\n",
       "<thead>\n",
       "<tr>\n",
       "<th scope=\"col\">Equipo local</th>\n",
       "<th scope=\"col\">Resultado</th>\n",
       "<th scope=\"col\">Equipo visitante</th>\n",
       "</tr>\n",
       "</thead>\n",
       "<tbody>\n",
       "<tr>\n",
       "<td class=\"local\">\n",
       "<figure>\n",
       "<img alt=\"Girona\" src=\"https://e00-marca.uecdn.es/assets/sports/logos/football/png/72x72/2893.png\">\n",
       "</img></figure>\n",
       "<span class=\"equipo_t2893\">Girona</span>\n",
       "</td>\n",
       "<td class=\"resultado\"><span class=\"resultado-partido\">0-0</span></td>\n",
       "<td class=\"visitante\">\n",
       "<span class=\"equipo_t192\">Valladolid</span>\n",
       "<figure>\n",
       "<img alt=\"Valladolid\" src=\"https://e00-marca.uecdn.es/assets/sports/logos/football/png/72x72/192.png\"/>\n",
       "</figure>\n",
       "</td>\n",
       "</tr>\n",
       "<tr>\n",
       "<td class=\"local\">\n",
       "<figure>\n",
       "<img alt=\"Betis\" src=\"https://e00-marca.uecdn.es/assets/sports/logos/football/png/72x72/185.png\"/>\n",
       "</figure>\n",
       "<span class=\"equipo_t185\">Betis</span>\n",
       "</td>\n",
       "<td class=\"resultado\"><span class=\"resultado-partido\">0-3</span></td>\n",
       "<td class=\"visitante\">\n",
       "<span class=\"equipo_t855\">Levante</span>\n",
       "<figure>\n",
       "<img alt=\"Levante\" src=\"https://e00-marca.uecdn.es/assets/sports/logos/football/png/72x72/855.png\"/>\n",
       "</figure>\n",
       "</td>\n",
       "</tr>\n",
       "<tr>\n",
       "<td class=\"local\">\n",
       "<figure>\n",
       "<img alt=\"Celta\" src=\"https://e00-marca.uecdn.es/assets/sports/logos/football/png/72x72/176.png\"/>\n",
       "</figure>\n",
       "<span class=\"equipo_t176\">Celta</span>\n",
       "</td>\n",
       "<td class=\"resultado\"><span class=\"resultado-partido\">1-1</span></td>\n",
       "<td class=\"visitante\">\n",
       "<span class=\"equipo_t177\">Espanyol</span>\n",
       "<figure>\n",
       "<img alt=\"Espanyol\" src=\"https://e00-marca.uecdn.es/assets/sports/logos/football/png/72x72/177.png\"/>\n",
       "</figure>\n",
       "</td>\n",
       "</tr>\n",
       "<tr>\n",
       "<td class=\"local\">\n",
       "<figure>\n",
       "<img alt=\"Villarreal\" src=\"https://e00-marca.uecdn.es/assets/sports/logos/football/png/72x72/449.png\"/>\n",
       "</figure>\n",
       "<span class=\"equipo_t449\">Villarreal</span>\n",
       "</td>\n",
       "<td class=\"resultado\"><span class=\"resultado-partido\">1-2</span></td>\n",
       "<td class=\"visitante\">\n",
       "<span class=\"equipo_t188\">R. Sociedad</span>\n",
       "<figure>\n",
       "<img alt=\"R. Sociedad\" src=\"https://e00-marca.uecdn.es/assets/sports/logos/football/png/72x72/188.png\"/>\n",
       "</figure>\n",
       "</td>\n",
       "</tr>\n",
       "<tr>\n",
       "<td class=\"local\">\n",
       "<figure>\n",
       "<img alt=\"Barcelona\" src=\"https://e00-marca.uecdn.es/assets/sports/logos/football/png/72x72/178.png\"/>\n",
       "</figure>\n",
       "<span class=\"equipo_t178\">Barcelona</span>\n",
       "</td>\n",
       "<td class=\"resultado\"><span class=\"resultado-partido\">3-0</span></td>\n",
       "<td class=\"visitante\">\n",
       "<span class=\"equipo_t173\">Alavés</span>\n",
       "<figure>\n",
       "<img alt=\"Alavés\" src=\"https://e00-marca.uecdn.es/assets/sports/logos/football/png/72x72/173.png\"/>\n",
       "</figure>\n",
       "</td>\n",
       "</tr>\n",
       "<tr>\n",
       "<td class=\"local\">\n",
       "<figure>\n",
       "<img alt=\"Eibar\" src=\"https://e00-marca.uecdn.es/assets/sports/logos/football/png/72x72/953.png\"/>\n",
       "</figure>\n",
       "<span class=\"equipo_t953\">Eibar</span>\n",
       "</td>\n",
       "<td class=\"resultado\"><span class=\"resultado-partido\">1-2</span></td>\n",
       "<td class=\"visitante\">\n",
       "<span class=\"equipo_t2894\">Huesca</span>\n",
       "<figure>\n",
       "<img alt=\"Huesca\" src=\"https://e00-marca.uecdn.es/assets/sports/logos/football/png/72x72/2894.png\"/>\n",
       "</figure>\n",
       "</td>\n",
       "</tr>\n",
       "<tr>\n",
       "<td class=\"local\">\n",
       "<figure>\n",
       "<img alt=\"Rayo\" src=\"https://e00-marca.uecdn.es/assets/sports/logos/football/png/72x72/184.png\"/>\n",
       "</figure>\n",
       "<span class=\"equipo_t184\">Rayo</span>\n",
       "</td>\n",
       "<td class=\"resultado\"><span class=\"resultado-partido\">1-4</span></td>\n",
       "<td class=\"visitante\">\n",
       "<span class=\"equipo_t179\">Sevilla</span>\n",
       "<figure>\n",
       "<img alt=\"Sevilla\" src=\"https://e00-marca.uecdn.es/assets/sports/logos/football/png/72x72/179.png\"/>\n",
       "</figure>\n",
       "</td>\n",
       "</tr>\n",
       "<tr>\n",
       "<td class=\"local\">\n",
       "<figure>\n",
       "<img alt=\"Real Madrid\" src=\"https://e00-marca.uecdn.es/assets/sports/logos/football/png/72x72/186.png\"/>\n",
       "</figure>\n",
       "<span class=\"equipo_t186\">Real Madrid</span>\n",
       "</td>\n",
       "<td class=\"resultado\"><span class=\"resultado-partido\">2-0</span></td>\n",
       "<td class=\"visitante\">\n",
       "<span class=\"equipo_t1450\">Getafe</span>\n",
       "<figure>\n",
       "<img alt=\"Getafe\" src=\"https://e00-marca.uecdn.es/assets/sports/logos/football/png/72x72/1450.png\"/>\n",
       "</figure>\n",
       "</td>\n",
       "</tr>\n",
       "<tr>\n",
       "<td class=\"local\">\n",
       "<figure>\n",
       "<img alt=\"Valencia\" src=\"https://e00-marca.uecdn.es/assets/sports/logos/football/png/72x72/191.png\"/>\n",
       "</figure>\n",
       "<span class=\"equipo_t191\">Valencia</span>\n",
       "</td>\n",
       "<td class=\"resultado\"><span class=\"resultado-partido\">1-1</span></td>\n",
       "<td class=\"visitante\">\n",
       "<span class=\"equipo_t175\">Atlético</span>\n",
       "<figure>\n",
       "<img alt=\"Atlético\" src=\"https://e00-marca.uecdn.es/assets/sports/logos/football/png/72x72/175.png\"/>\n",
       "</figure>\n",
       "</td>\n",
       "</tr>\n",
       "<tr>\n",
       "<td class=\"local\">\n",
       "<figure>\n",
       "<img alt=\"Athletic\" src=\"https://e00-marca.uecdn.es/assets/sports/logos/football/png/72x72/174.png\"/>\n",
       "</figure>\n",
       "<span class=\"equipo_t174\">Athletic</span>\n",
       "</td>\n",
       "<td class=\"resultado\"><span class=\"resultado-partido\">2-1</span></td>\n",
       "<td class=\"visitante\">\n",
       "<span class=\"equipo_t957\">Leganés</span>\n",
       "<figure>\n",
       "<img alt=\"Leganés\" src=\"https://e00-marca.uecdn.es/assets/sports/logos/football/png/72x72/957.png\"/>\n",
       "</figure>\n",
       "</td>\n",
       "</tr>\n",
       "</tbody>\n",
       "</table>\n",
       "</div>\n",
       "</div>\n",
       "</div>"
      ]
     },
     "execution_count": 5,
     "metadata": {},
     "output_type": "execute_result"
    }
   ],
   "source": [
    "rounds[0]"
   ]
  },
  {
   "cell_type": "markdown",
   "metadata": {},
   "source": [
    "We see how the round number is stored within the ```<caption>``` element.  \n",
    "We can then store this first piece of information as:"
   ]
  },
  {
   "cell_type": "code",
   "execution_count": 6,
   "metadata": {},
   "outputs": [
    {
     "data": {
      "text/plain": [
       "'Jornada 1'"
      ]
     },
     "execution_count": 6,
     "metadata": {},
     "output_type": "execute_result"
    }
   ],
   "source": [
    "rounds[0].caption.text"
   ]
  },
  {
   "cell_type": "markdown",
   "metadata": {},
   "source": [
    "And we can also check that the information for the particular round is contain in the ```round -> table -> tbody``` element:"
   ]
  },
  {
   "cell_type": "code",
   "execution_count": 7,
   "metadata": {},
   "outputs": [
    {
     "data": {
      "text/plain": [
       "<tbody>\n",
       "<tr>\n",
       "<td class=\"local\">\n",
       "<figure>\n",
       "<img alt=\"Girona\" src=\"https://e00-marca.uecdn.es/assets/sports/logos/football/png/72x72/2893.png\">\n",
       "</img></figure>\n",
       "<span class=\"equipo_t2893\">Girona</span>\n",
       "</td>\n",
       "<td class=\"resultado\"><span class=\"resultado-partido\">0-0</span></td>\n",
       "<td class=\"visitante\">\n",
       "<span class=\"equipo_t192\">Valladolid</span>\n",
       "<figure>\n",
       "<img alt=\"Valladolid\" src=\"https://e00-marca.uecdn.es/assets/sports/logos/football/png/72x72/192.png\"/>\n",
       "</figure>\n",
       "</td>\n",
       "</tr>\n",
       "<tr>\n",
       "<td class=\"local\">\n",
       "<figure>\n",
       "<img alt=\"Betis\" src=\"https://e00-marca.uecdn.es/assets/sports/logos/football/png/72x72/185.png\"/>\n",
       "</figure>\n",
       "<span class=\"equipo_t185\">Betis</span>\n",
       "</td>\n",
       "<td class=\"resultado\"><span class=\"resultado-partido\">0-3</span></td>\n",
       "<td class=\"visitante\">\n",
       "<span class=\"equipo_t855\">Levante</span>\n",
       "<figure>\n",
       "<img alt=\"Levante\" src=\"https://e00-marca.uecdn.es/assets/sports/logos/football/png/72x72/855.png\"/>\n",
       "</figure>\n",
       "</td>\n",
       "</tr>\n",
       "<tr>\n",
       "<td class=\"local\">\n",
       "<figure>\n",
       "<img alt=\"Celta\" src=\"https://e00-marca.uecdn.es/assets/sports/logos/football/png/72x72/176.png\"/>\n",
       "</figure>\n",
       "<span class=\"equipo_t176\">Celta</span>\n",
       "</td>\n",
       "<td class=\"resultado\"><span class=\"resultado-partido\">1-1</span></td>\n",
       "<td class=\"visitante\">\n",
       "<span class=\"equipo_t177\">Espanyol</span>\n",
       "<figure>\n",
       "<img alt=\"Espanyol\" src=\"https://e00-marca.uecdn.es/assets/sports/logos/football/png/72x72/177.png\"/>\n",
       "</figure>\n",
       "</td>\n",
       "</tr>\n",
       "<tr>\n",
       "<td class=\"local\">\n",
       "<figure>\n",
       "<img alt=\"Villarreal\" src=\"https://e00-marca.uecdn.es/assets/sports/logos/football/png/72x72/449.png\"/>\n",
       "</figure>\n",
       "<span class=\"equipo_t449\">Villarreal</span>\n",
       "</td>\n",
       "<td class=\"resultado\"><span class=\"resultado-partido\">1-2</span></td>\n",
       "<td class=\"visitante\">\n",
       "<span class=\"equipo_t188\">R. Sociedad</span>\n",
       "<figure>\n",
       "<img alt=\"R. Sociedad\" src=\"https://e00-marca.uecdn.es/assets/sports/logos/football/png/72x72/188.png\"/>\n",
       "</figure>\n",
       "</td>\n",
       "</tr>\n",
       "<tr>\n",
       "<td class=\"local\">\n",
       "<figure>\n",
       "<img alt=\"Barcelona\" src=\"https://e00-marca.uecdn.es/assets/sports/logos/football/png/72x72/178.png\"/>\n",
       "</figure>\n",
       "<span class=\"equipo_t178\">Barcelona</span>\n",
       "</td>\n",
       "<td class=\"resultado\"><span class=\"resultado-partido\">3-0</span></td>\n",
       "<td class=\"visitante\">\n",
       "<span class=\"equipo_t173\">Alavés</span>\n",
       "<figure>\n",
       "<img alt=\"Alavés\" src=\"https://e00-marca.uecdn.es/assets/sports/logos/football/png/72x72/173.png\"/>\n",
       "</figure>\n",
       "</td>\n",
       "</tr>\n",
       "<tr>\n",
       "<td class=\"local\">\n",
       "<figure>\n",
       "<img alt=\"Eibar\" src=\"https://e00-marca.uecdn.es/assets/sports/logos/football/png/72x72/953.png\"/>\n",
       "</figure>\n",
       "<span class=\"equipo_t953\">Eibar</span>\n",
       "</td>\n",
       "<td class=\"resultado\"><span class=\"resultado-partido\">1-2</span></td>\n",
       "<td class=\"visitante\">\n",
       "<span class=\"equipo_t2894\">Huesca</span>\n",
       "<figure>\n",
       "<img alt=\"Huesca\" src=\"https://e00-marca.uecdn.es/assets/sports/logos/football/png/72x72/2894.png\"/>\n",
       "</figure>\n",
       "</td>\n",
       "</tr>\n",
       "<tr>\n",
       "<td class=\"local\">\n",
       "<figure>\n",
       "<img alt=\"Rayo\" src=\"https://e00-marca.uecdn.es/assets/sports/logos/football/png/72x72/184.png\"/>\n",
       "</figure>\n",
       "<span class=\"equipo_t184\">Rayo</span>\n",
       "</td>\n",
       "<td class=\"resultado\"><span class=\"resultado-partido\">1-4</span></td>\n",
       "<td class=\"visitante\">\n",
       "<span class=\"equipo_t179\">Sevilla</span>\n",
       "<figure>\n",
       "<img alt=\"Sevilla\" src=\"https://e00-marca.uecdn.es/assets/sports/logos/football/png/72x72/179.png\"/>\n",
       "</figure>\n",
       "</td>\n",
       "</tr>\n",
       "<tr>\n",
       "<td class=\"local\">\n",
       "<figure>\n",
       "<img alt=\"Real Madrid\" src=\"https://e00-marca.uecdn.es/assets/sports/logos/football/png/72x72/186.png\"/>\n",
       "</figure>\n",
       "<span class=\"equipo_t186\">Real Madrid</span>\n",
       "</td>\n",
       "<td class=\"resultado\"><span class=\"resultado-partido\">2-0</span></td>\n",
       "<td class=\"visitante\">\n",
       "<span class=\"equipo_t1450\">Getafe</span>\n",
       "<figure>\n",
       "<img alt=\"Getafe\" src=\"https://e00-marca.uecdn.es/assets/sports/logos/football/png/72x72/1450.png\"/>\n",
       "</figure>\n",
       "</td>\n",
       "</tr>\n",
       "<tr>\n",
       "<td class=\"local\">\n",
       "<figure>\n",
       "<img alt=\"Valencia\" src=\"https://e00-marca.uecdn.es/assets/sports/logos/football/png/72x72/191.png\"/>\n",
       "</figure>\n",
       "<span class=\"equipo_t191\">Valencia</span>\n",
       "</td>\n",
       "<td class=\"resultado\"><span class=\"resultado-partido\">1-1</span></td>\n",
       "<td class=\"visitante\">\n",
       "<span class=\"equipo_t175\">Atlético</span>\n",
       "<figure>\n",
       "<img alt=\"Atlético\" src=\"https://e00-marca.uecdn.es/assets/sports/logos/football/png/72x72/175.png\"/>\n",
       "</figure>\n",
       "</td>\n",
       "</tr>\n",
       "<tr>\n",
       "<td class=\"local\">\n",
       "<figure>\n",
       "<img alt=\"Athletic\" src=\"https://e00-marca.uecdn.es/assets/sports/logos/football/png/72x72/174.png\"/>\n",
       "</figure>\n",
       "<span class=\"equipo_t174\">Athletic</span>\n",
       "</td>\n",
       "<td class=\"resultado\"><span class=\"resultado-partido\">2-1</span></td>\n",
       "<td class=\"visitante\">\n",
       "<span class=\"equipo_t957\">Leganés</span>\n",
       "<figure>\n",
       "<img alt=\"Leganés\" src=\"https://e00-marca.uecdn.es/assets/sports/logos/football/png/72x72/957.png\"/>\n",
       "</figure>\n",
       "</td>\n",
       "</tr>\n",
       "</tbody>"
      ]
     },
     "execution_count": 7,
     "metadata": {},
     "output_type": "execute_result"
    }
   ],
   "source": [
    "rounds[0].table.tbody"
   ]
  },
  {
   "cell_type": "markdown",
   "metadata": {},
   "source": [
    "Where the matches will be inside each ```td``` element of the body of the table"
   ]
  },
  {
   "cell_type": "code",
   "execution_count": 8,
   "metadata": {},
   "outputs": [
    {
     "data": {
      "text/plain": [
       "<td class=\"local\">\n",
       "<figure>\n",
       "<img alt=\"Girona\" src=\"https://e00-marca.uecdn.es/assets/sports/logos/football/png/72x72/2893.png\">\n",
       "</img></figure>\n",
       "<span class=\"equipo_t2893\">Girona</span>\n",
       "</td>"
      ]
     },
     "execution_count": 8,
     "metadata": {},
     "output_type": "execute_result"
    }
   ],
   "source": [
    "rounds[0].table.tbody.td"
   ]
  },
  {
   "cell_type": "markdown",
   "metadata": {},
   "source": [
    "Then, we can catch all the matches within a round by:"
   ]
  },
  {
   "cell_type": "code",
   "execution_count": 9,
   "metadata": {},
   "outputs": [
    {
     "data": {
      "text/plain": [
       "<tr>\n",
       "<td class=\"local\">\n",
       "<figure>\n",
       "<img alt=\"Girona\" src=\"https://e00-marca.uecdn.es/assets/sports/logos/football/png/72x72/2893.png\">\n",
       "</img></figure>\n",
       "<span class=\"equipo_t2893\">Girona</span>\n",
       "</td>\n",
       "<td class=\"resultado\"><span class=\"resultado-partido\">0-0</span></td>\n",
       "<td class=\"visitante\">\n",
       "<span class=\"equipo_t192\">Valladolid</span>\n",
       "<figure>\n",
       "<img alt=\"Valladolid\" src=\"https://e00-marca.uecdn.es/assets/sports/logos/football/png/72x72/192.png\"/>\n",
       "</figure>\n",
       "</td>\n",
       "</tr>"
      ]
     },
     "execution_count": 9,
     "metadata": {},
     "output_type": "execute_result"
    }
   ],
   "source": [
    "r = rounds[0]\n",
    "matches = r.findAll('tr')\n",
    "matches[1]"
   ]
  },
  {
   "cell_type": "markdown",
   "metadata": {},
   "source": [
    "To capture now the names of the local team and the away team, as we did for the round number:"
   ]
  },
  {
   "cell_type": "code",
   "execution_count": 10,
   "metadata": {},
   "outputs": [
    {
     "name": "stdout",
     "output_type": "stream",
     "text": [
      "Girona\n",
      "Valladolid\n"
     ]
    }
   ],
   "source": [
    "match = matches[1]\n",
    "loc  = match.find('td', {'class': 'local'}).span.text\n",
    "away = match.find('td', {'class': 'visitante'}).span.text\n",
    "print(loc)\n",
    "print(away)"
   ]
  },
  {
   "cell_type": "markdown",
   "metadata": {},
   "source": [
    "If we define this in a loop of matches inside a loop of rounds, we can retreive the entire site!"
   ]
  },
  {
   "cell_type": "code",
   "execution_count": 11,
   "metadata": {},
   "outputs": [],
   "source": [
    "def crear_calendario(temp, path):\n",
    "    \n",
    "    global partidos_df # Use the defined empty dataframe\n",
    "    page_soup = BS(uOpen(path).read(), 'html.parser')\n",
    "    rounds = page_soup.find_all('div',{'class': 'jornada calendarioInternacional'})\n",
    "    \n",
    "    for r in rounds:\n",
    "          \n",
    "        rnd = r.caption.text        # Get the name of the round i.e. Jornada 1\n",
    "        matches = r.findAll('tr')   # Find all the matches in that round\n",
    "        \n",
    "        for j, match in enumerate(matches[1:]):\n",
    "            \n",
    "            loc  = match.find('td', {'class': 'local'}).span.text\n",
    "            away = match.find('td', {'class': 'visitante'}).span.text\n",
    "            loc, away = limpiar_nombre(loc), limpiar_nombre(away)        \n",
    "            loc, away = buscar_equivalencia(loc), buscar_equivalencia(away)\n",
    "            \n",
    "            res = pd.DataFrame([[rnd, j+1, loc, away]], columns=list(partidos_df))\n",
    "            partidos_df = partidos_df.append(res)\n",
    "        \n",
    "    partidos_df = partidos_df.reset_index()\n",
    "    partidos_df.drop('index', axis=1, inplace=True)\n",
    "    \n",
    "\n",
    "crear_calendario('2018-2019', m_url)"
   ]
  },
  {
   "cell_type": "code",
   "execution_count": 12,
   "metadata": {},
   "outputs": [
    {
     "data": {
      "text/html": [
       "<div>\n",
       "<style scoped>\n",
       "    .dataframe tbody tr th:only-of-type {\n",
       "        vertical-align: middle;\n",
       "    }\n",
       "\n",
       "    .dataframe tbody tr th {\n",
       "        vertical-align: top;\n",
       "    }\n",
       "\n",
       "    .dataframe thead th {\n",
       "        text-align: right;\n",
       "    }\n",
       "</style>\n",
       "<table border=\"1\" class=\"dataframe\">\n",
       "  <thead>\n",
       "    <tr style=\"text-align: right;\">\n",
       "      <th></th>\n",
       "      <th>Round</th>\n",
       "      <th>Match #</th>\n",
       "      <th>Home team</th>\n",
       "      <th>Away team</th>\n",
       "    </tr>\n",
       "  </thead>\n",
       "  <tbody>\n",
       "    <tr>\n",
       "      <th>0</th>\n",
       "      <td>Jornada 1</td>\n",
       "      <td>1</td>\n",
       "      <td>Girona</td>\n",
       "      <td>Valladolid</td>\n",
       "    </tr>\n",
       "    <tr>\n",
       "      <th>1</th>\n",
       "      <td>Jornada 1</td>\n",
       "      <td>2</td>\n",
       "      <td>Betis</td>\n",
       "      <td>Levante</td>\n",
       "    </tr>\n",
       "    <tr>\n",
       "      <th>2</th>\n",
       "      <td>Jornada 1</td>\n",
       "      <td>3</td>\n",
       "      <td>Celta</td>\n",
       "      <td>Espanyol</td>\n",
       "    </tr>\n",
       "    <tr>\n",
       "      <th>3</th>\n",
       "      <td>Jornada 1</td>\n",
       "      <td>4</td>\n",
       "      <td>Villarreal</td>\n",
       "      <td>Real Sociedad</td>\n",
       "    </tr>\n",
       "    <tr>\n",
       "      <th>4</th>\n",
       "      <td>Jornada 1</td>\n",
       "      <td>5</td>\n",
       "      <td>Barcelona</td>\n",
       "      <td>Alavés</td>\n",
       "    </tr>\n",
       "  </tbody>\n",
       "</table>\n",
       "</div>"
      ],
      "text/plain": [
       "       Round Match #   Home team      Away team\n",
       "0  Jornada 1       1      Girona     Valladolid\n",
       "1  Jornada 1       2       Betis        Levante\n",
       "2  Jornada 1       3       Celta       Espanyol\n",
       "3  Jornada 1       4  Villarreal  Real Sociedad\n",
       "4  Jornada 1       5   Barcelona         Alavés"
      ]
     },
     "execution_count": 12,
     "metadata": {},
     "output_type": "execute_result"
    }
   ],
   "source": [
    "partidos_df.head(5)"
   ]
  },
  {
   "cell_type": "code",
   "execution_count": 13,
   "metadata": {},
   "outputs": [
    {
     "data": {
      "text/html": [
       "<div>\n",
       "<style scoped>\n",
       "    .dataframe tbody tr th:only-of-type {\n",
       "        vertical-align: middle;\n",
       "    }\n",
       "\n",
       "    .dataframe tbody tr th {\n",
       "        vertical-align: top;\n",
       "    }\n",
       "\n",
       "    .dataframe thead th {\n",
       "        text-align: right;\n",
       "    }\n",
       "</style>\n",
       "<table border=\"1\" class=\"dataframe\">\n",
       "  <thead>\n",
       "    <tr style=\"text-align: right;\">\n",
       "      <th></th>\n",
       "      <th>Round</th>\n",
       "      <th>Match #</th>\n",
       "      <th>Home team</th>\n",
       "      <th>Away team</th>\n",
       "    </tr>\n",
       "  </thead>\n",
       "  <tbody>\n",
       "    <tr>\n",
       "      <th>375</th>\n",
       "      <td>Jornada 38</td>\n",
       "      <td>6</td>\n",
       "      <td>Huesca</td>\n",
       "      <td>Leganés</td>\n",
       "    </tr>\n",
       "    <tr>\n",
       "      <th>376</th>\n",
       "      <td>Jornada 38</td>\n",
       "      <td>7</td>\n",
       "      <td>Levante</td>\n",
       "      <td>Atlético</td>\n",
       "    </tr>\n",
       "    <tr>\n",
       "      <th>377</th>\n",
       "      <td>Jornada 38</td>\n",
       "      <td>8</td>\n",
       "      <td>Real Madrid</td>\n",
       "      <td>Betis</td>\n",
       "    </tr>\n",
       "    <tr>\n",
       "      <th>378</th>\n",
       "      <td>Jornada 38</td>\n",
       "      <td>9</td>\n",
       "      <td>Valladolid</td>\n",
       "      <td>Valencia</td>\n",
       "    </tr>\n",
       "    <tr>\n",
       "      <th>379</th>\n",
       "      <td>Jornada 38</td>\n",
       "      <td>10</td>\n",
       "      <td>Sevilla</td>\n",
       "      <td>Athletic</td>\n",
       "    </tr>\n",
       "  </tbody>\n",
       "</table>\n",
       "</div>"
      ],
      "text/plain": [
       "          Round Match #    Home team Away team\n",
       "375  Jornada 38       6       Huesca   Leganés\n",
       "376  Jornada 38       7      Levante  Atlético\n",
       "377  Jornada 38       8  Real Madrid     Betis\n",
       "378  Jornada 38       9   Valladolid  Valencia\n",
       "379  Jornada 38      10      Sevilla  Athletic"
      ]
     },
     "execution_count": 13,
     "metadata": {},
     "output_type": "execute_result"
    }
   ],
   "source": [
    "partidos_df.tail()"
   ]
  },
  {
   "cell_type": "markdown",
   "metadata": {},
   "source": [
    "## 4 - Export to Excel\n"
   ]
  },
  {
   "cell_type": "code",
   "execution_count": 14,
   "metadata": {},
   "outputs": [],
   "source": [
    "# Export to Excel\n",
    "# ---------------\n",
    "partidos_writer = pd.ExcelWriter(path_to_save + '/matches_df.xlsx', engine='xlsxwriter')    \n",
    "partidos_df.to_excel(partidos_writer, sheet_name='Matches_2018_2019')\n",
    "partidos_writer.save()"
   ]
  }
 ],
 "metadata": {
  "kernelspec": {
   "display_name": "Python 3",
   "language": "python",
   "name": "python3"
  },
  "language_info": {
   "codemirror_mode": {
    "name": "ipython",
    "version": 3
   },
   "file_extension": ".py",
   "mimetype": "text/x-python",
   "name": "python",
   "nbconvert_exporter": "python",
   "pygments_lexer": "ipython3",
   "version": "3.7.0"
  }
 },
 "nbformat": 4,
 "nbformat_minor": 2
}
